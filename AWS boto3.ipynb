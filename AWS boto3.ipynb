{
 "cells": [
  {
   "cell_type": "code",
   "execution_count": 1,
   "id": "760f7efa",
   "metadata": {},
   "outputs": [],
   "source": [
    "import boto3\n",
    "import pandas as pd"
   ]
  },
  {
   "cell_type": "code",
   "execution_count": 2,
   "id": "3d8a3e26",
   "metadata": {},
   "outputs": [],
   "source": [
    "s3 = boto3.client('s3')"
   ]
  },
  {
   "cell_type": "code",
   "execution_count": 3,
   "id": "a4c1e51d",
   "metadata": {},
   "outputs": [],
   "source": [
    "s3 = boto3.resource(\n",
    "    service_name='s3',\n",
    "    region_name='us-east-1',\n",
    "    aws_access_key_id = '',\n",
    "    aws_secret_access_key = ''\n",
    ")"
   ]
  },
  {
   "cell_type": "code",
   "execution_count": 4,
   "id": "4b72ac35",
   "metadata": {},
   "outputs": [
    {
     "name": "stdout",
     "output_type": "stream",
     "text": [
      "vedanshaws\n"
     ]
    }
   ],
   "source": [
    "# Print out bucket names\n",
    "for bucket in s3.buckets.all():\n",
    "    print(bucket.name)"
   ]
  },
  {
   "cell_type": "code",
   "execution_count": 5,
   "id": "e1a6ae73",
   "metadata": {},
   "outputs": [
    {
     "name": "stdout",
     "output_type": "stream",
     "text": [
      "Requirement already satisfied: s3fs in c:\\users\\vedan\\.conda\\envs\\tensorflow\\lib\\site-packages (2023.10.0)\n",
      "Requirement already satisfied: aiobotocore~=2.7.0 in c:\\users\\vedan\\.conda\\envs\\tensorflow\\lib\\site-packages (from s3fs) (2.7.0)\n",
      "Requirement already satisfied: fsspec==2023.10.0 in c:\\users\\vedan\\.conda\\envs\\tensorflow\\lib\\site-packages (from s3fs) (2023.10.0)\n",
      "Requirement already satisfied: aiohttp!=4.0.0a0,!=4.0.0a1 in c:\\users\\vedan\\.conda\\envs\\tensorflow\\lib\\site-packages (from s3fs) (3.8.3)\n",
      "Requirement already satisfied: aioitertools<1.0.0,>=0.5.1 in c:\\users\\vedan\\.conda\\envs\\tensorflow\\lib\\site-packages (from aiobotocore~=2.7.0->s3fs) (0.11.0)\n",
      "Requirement already satisfied: wrapt<2.0.0,>=1.10.10 in c:\\users\\vedan\\.conda\\envs\\tensorflow\\lib\\site-packages (from aiobotocore~=2.7.0->s3fs) (1.14.1)\n",
      "Requirement already satisfied: botocore<1.31.65,>=1.31.16 in c:\\users\\vedan\\.conda\\envs\\tensorflow\\lib\\site-packages (from aiobotocore~=2.7.0->s3fs) (1.31.64)\n",
      "Requirement already satisfied: yarl<2.0,>=1.0 in c:\\users\\vedan\\.conda\\envs\\tensorflow\\lib\\site-packages (from aiohttp!=4.0.0a0,!=4.0.0a1->s3fs) (1.8.1)\n",
      "Requirement already satisfied: attrs>=17.3.0 in c:\\users\\vedan\\.conda\\envs\\tensorflow\\lib\\site-packages (from aiohttp!=4.0.0a0,!=4.0.0a1->s3fs) (22.1.0)\n",
      "Requirement already satisfied: frozenlist>=1.1.1 in c:\\users\\vedan\\.conda\\envs\\tensorflow\\lib\\site-packages (from aiohttp!=4.0.0a0,!=4.0.0a1->s3fs) (1.3.3)\n",
      "Requirement already satisfied: async-timeout<5.0,>=4.0.0a3 in c:\\users\\vedan\\.conda\\envs\\tensorflow\\lib\\site-packages (from aiohttp!=4.0.0a0,!=4.0.0a1->s3fs) (4.0.2)\n",
      "Requirement already satisfied: multidict<7.0,>=4.5 in c:\\users\\vedan\\.conda\\envs\\tensorflow\\lib\\site-packages (from aiohttp!=4.0.0a0,!=4.0.0a1->s3fs) (6.0.2)\n",
      "Requirement already satisfied: aiosignal>=1.1.2 in c:\\users\\vedan\\.conda\\envs\\tensorflow\\lib\\site-packages (from aiohttp!=4.0.0a0,!=4.0.0a1->s3fs) (1.2.0)\n",
      "Requirement already satisfied: charset-normalizer<3.0,>=2.0 in c:\\users\\vedan\\.conda\\envs\\tensorflow\\lib\\site-packages (from aiohttp!=4.0.0a0,!=4.0.0a1->s3fs) (2.0.4)\n",
      "Requirement already satisfied: python-dateutil<3.0.0,>=2.1 in c:\\users\\vedan\\.conda\\envs\\tensorflow\\lib\\site-packages (from botocore<1.31.65,>=1.31.16->aiobotocore~=2.7.0->s3fs) (2.8.2)\n",
      "Requirement already satisfied: urllib3<2.1,>=1.25.4 in c:\\users\\vedan\\.conda\\envs\\tensorflow\\lib\\site-packages (from botocore<1.31.65,>=1.31.16->aiobotocore~=2.7.0->s3fs) (1.26.15)\n",
      "Requirement already satisfied: jmespath<2.0.0,>=0.7.1 in c:\\users\\vedan\\.conda\\envs\\tensorflow\\lib\\site-packages (from botocore<1.31.65,>=1.31.16->aiobotocore~=2.7.0->s3fs) (1.0.1)\n",
      "Requirement already satisfied: idna>=2.0 in c:\\users\\vedan\\.conda\\envs\\tensorflow\\lib\\site-packages (from yarl<2.0,>=1.0->aiohttp!=4.0.0a0,!=4.0.0a1->s3fs) (3.4)\n",
      "Requirement already satisfied: six>=1.5 in c:\\users\\vedan\\.conda\\envs\\tensorflow\\lib\\site-packages (from python-dateutil<3.0.0,>=2.1->botocore<1.31.65,>=1.31.16->aiobotocore~=2.7.0->s3fs) (1.16.0)\n"
     ]
    }
   ],
   "source": [
    "!pip install s3fs"
   ]
  },
  {
   "cell_type": "code",
   "execution_count": 6,
   "id": "f70d7111",
   "metadata": {},
   "outputs": [],
   "source": [
    "import os\n",
    "os.environ[\"AWS_DEFAULT_REGION\"] = 'us-east-1'\n",
    "os.environ[\"AWS_ACCESS_KEY_ID\"] = ''\n",
    "os.environ[\"AWS_SECRET_ACCESS_KEY\"] = ''"
   ]
  },
  {
   "cell_type": "code",
   "execution_count": 7,
   "id": "1ba18d7f",
   "metadata": {},
   "outputs": [
    {
     "data": {
      "text/plain": [
       "{'ResponseMetadata': {'RequestId': 'G8W91JGP2X7H3E9Z',\n",
       "  'HostId': 'NAI/TUXFsRv1RUOmsxxAdIzKN/YJR+DUwT74CtyyrlHSR+Vk5ootKcrDFbVVvO/TVXKtaIuvy2c=',\n",
       "  'HTTPStatusCode': 200,\n",
       "  'HTTPHeaders': {'x-amz-id-2': 'NAI/TUXFsRv1RUOmsxxAdIzKN/YJR+DUwT74CtyyrlHSR+Vk5ootKcrDFbVVvO/TVXKtaIuvy2c=',\n",
       "   'x-amz-request-id': 'G8W91JGP2X7H3E9Z',\n",
       "   'date': 'Sat, 18 Nov 2023 20:02:14 GMT',\n",
       "   'last-modified': 'Sat, 18 Nov 2023 19:31:24 GMT',\n",
       "   'etag': '\"6a883fd98624e18c0b7ce251f4fab4fb\"',\n",
       "   'x-amz-server-side-encryption': 'AES256',\n",
       "   'x-amz-version-id': 'gx1FJJ6jw2wsDNjKjef5U2R1_T4PBMZk',\n",
       "   'accept-ranges': 'bytes',\n",
       "   'content-type': 'text/csv',\n",
       "   'server': 'AmazonS3',\n",
       "   'content-length': '100951'},\n",
       "  'RetryAttempts': 0},\n",
       " 'AcceptRanges': 'bytes',\n",
       " 'LastModified': datetime.datetime(2023, 11, 18, 19, 31, 24, tzinfo=tzutc()),\n",
       " 'ContentLength': 100951,\n",
       " 'ETag': '\"6a883fd98624e18c0b7ce251f4fab4fb\"',\n",
       " 'VersionId': 'gx1FJJ6jw2wsDNjKjef5U2R1_T4PBMZk',\n",
       " 'ContentType': 'text/csv',\n",
       " 'ServerSideEncryption': 'AES256',\n",
       " 'Metadata': {},\n",
       " 'Body': <botocore.response.StreamingBody at 0x12b08caee90>}"
      ]
     },
     "execution_count": 7,
     "metadata": {},
     "output_type": "execute_result"
    }
   ],
   "source": [
    "s3.Bucket('vedanshaws').Object('winequality-red.csv').get()"
   ]
  },
  {
   "cell_type": "code",
   "execution_count": 8,
   "id": "ff2aabb4",
   "metadata": {},
   "outputs": [],
   "source": [
    "obj = s3.Bucket('vedanshaws').Object('winequality-red.csv').get()"
   ]
  },
  {
   "cell_type": "code",
   "execution_count": 9,
   "id": "b669202c",
   "metadata": {},
   "outputs": [],
   "source": [
    "df = pd.read_csv(obj['Body'], index_col=0)"
   ]
  },
  {
   "cell_type": "code",
   "execution_count": 10,
   "id": "629f6f08",
   "metadata": {},
   "outputs": [
    {
     "data": {
      "text/html": [
       "<div>\n",
       "<style scoped>\n",
       "    .dataframe tbody tr th:only-of-type {\n",
       "        vertical-align: middle;\n",
       "    }\n",
       "\n",
       "    .dataframe tbody tr th {\n",
       "        vertical-align: top;\n",
       "    }\n",
       "\n",
       "    .dataframe thead th {\n",
       "        text-align: right;\n",
       "    }\n",
       "</style>\n",
       "<table border=\"1\" class=\"dataframe\">\n",
       "  <thead>\n",
       "    <tr style=\"text-align: right;\">\n",
       "      <th></th>\n",
       "      <th>volatile acidity</th>\n",
       "      <th>citric acid</th>\n",
       "      <th>residual sugar</th>\n",
       "      <th>chlorides</th>\n",
       "      <th>free sulfur dioxide</th>\n",
       "      <th>total sulfur dioxide</th>\n",
       "      <th>density</th>\n",
       "      <th>pH</th>\n",
       "      <th>sulphates</th>\n",
       "      <th>alcohol</th>\n",
       "      <th>quality</th>\n",
       "    </tr>\n",
       "    <tr>\n",
       "      <th>fixed acidity</th>\n",
       "      <th></th>\n",
       "      <th></th>\n",
       "      <th></th>\n",
       "      <th></th>\n",
       "      <th></th>\n",
       "      <th></th>\n",
       "      <th></th>\n",
       "      <th></th>\n",
       "      <th></th>\n",
       "      <th></th>\n",
       "      <th></th>\n",
       "    </tr>\n",
       "  </thead>\n",
       "  <tbody>\n",
       "    <tr>\n",
       "      <th>7.4</th>\n",
       "      <td>0.70</td>\n",
       "      <td>0.00</td>\n",
       "      <td>1.9</td>\n",
       "      <td>0.076</td>\n",
       "      <td>11.0</td>\n",
       "      <td>34.0</td>\n",
       "      <td>0.9978</td>\n",
       "      <td>3.51</td>\n",
       "      <td>0.56</td>\n",
       "      <td>9.4</td>\n",
       "      <td>5</td>\n",
       "    </tr>\n",
       "    <tr>\n",
       "      <th>7.8</th>\n",
       "      <td>0.88</td>\n",
       "      <td>0.00</td>\n",
       "      <td>2.6</td>\n",
       "      <td>0.098</td>\n",
       "      <td>25.0</td>\n",
       "      <td>67.0</td>\n",
       "      <td>0.9968</td>\n",
       "      <td>3.20</td>\n",
       "      <td>0.68</td>\n",
       "      <td>9.8</td>\n",
       "      <td>5</td>\n",
       "    </tr>\n",
       "    <tr>\n",
       "      <th>7.8</th>\n",
       "      <td>0.76</td>\n",
       "      <td>0.04</td>\n",
       "      <td>2.3</td>\n",
       "      <td>0.092</td>\n",
       "      <td>15.0</td>\n",
       "      <td>54.0</td>\n",
       "      <td>0.9970</td>\n",
       "      <td>3.26</td>\n",
       "      <td>0.65</td>\n",
       "      <td>9.8</td>\n",
       "      <td>5</td>\n",
       "    </tr>\n",
       "    <tr>\n",
       "      <th>11.2</th>\n",
       "      <td>0.28</td>\n",
       "      <td>0.56</td>\n",
       "      <td>1.9</td>\n",
       "      <td>0.075</td>\n",
       "      <td>17.0</td>\n",
       "      <td>60.0</td>\n",
       "      <td>0.9980</td>\n",
       "      <td>3.16</td>\n",
       "      <td>0.58</td>\n",
       "      <td>9.8</td>\n",
       "      <td>6</td>\n",
       "    </tr>\n",
       "    <tr>\n",
       "      <th>7.4</th>\n",
       "      <td>0.70</td>\n",
       "      <td>0.00</td>\n",
       "      <td>1.9</td>\n",
       "      <td>0.076</td>\n",
       "      <td>11.0</td>\n",
       "      <td>34.0</td>\n",
       "      <td>0.9978</td>\n",
       "      <td>3.51</td>\n",
       "      <td>0.56</td>\n",
       "      <td>9.4</td>\n",
       "      <td>5</td>\n",
       "    </tr>\n",
       "  </tbody>\n",
       "</table>\n",
       "</div>"
      ],
      "text/plain": [
       "               volatile acidity  citric acid  residual sugar  chlorides  \\\n",
       "fixed acidity                                                             \n",
       "7.4                        0.70         0.00             1.9      0.076   \n",
       "7.8                        0.88         0.00             2.6      0.098   \n",
       "7.8                        0.76         0.04             2.3      0.092   \n",
       "11.2                       0.28         0.56             1.9      0.075   \n",
       "7.4                        0.70         0.00             1.9      0.076   \n",
       "\n",
       "               free sulfur dioxide  total sulfur dioxide  density    pH  \\\n",
       "fixed acidity                                                             \n",
       "7.4                           11.0                  34.0   0.9978  3.51   \n",
       "7.8                           25.0                  67.0   0.9968  3.20   \n",
       "7.8                           15.0                  54.0   0.9970  3.26   \n",
       "11.2                          17.0                  60.0   0.9980  3.16   \n",
       "7.4                           11.0                  34.0   0.9978  3.51   \n",
       "\n",
       "               sulphates  alcohol  quality  \n",
       "fixed acidity                               \n",
       "7.4                 0.56      9.4        5  \n",
       "7.8                 0.68      9.8        5  \n",
       "7.8                 0.65      9.8        5  \n",
       "11.2                0.58      9.8        6  \n",
       "7.4                 0.56      9.4        5  "
      ]
     },
     "execution_count": 10,
     "metadata": {},
     "output_type": "execute_result"
    }
   ],
   "source": [
    "df.head()"
   ]
  },
  {
   "cell_type": "code",
   "execution_count": 20,
   "id": "eacaadd6",
   "metadata": {},
   "outputs": [
    {
     "name": "stdout",
     "output_type": "stream",
     "text": [
      "winequality-red.csv\n"
     ]
    }
   ],
   "source": [
    "for obj in s3.Bucket('vedanshaws').objects.all():\n",
    "    filename = obj.key # To list the names of the files in the bucket.\n",
    "    print(filename)"
   ]
  },
  {
   "cell_type": "code",
   "execution_count": null,
   "id": "69902a66",
   "metadata": {},
   "outputs": [],
   "source": []
  }
 ],
 "metadata": {
  "kernelspec": {
   "display_name": "Python 3 (ipykernel)",
   "language": "python",
   "name": "python3"
  },
  "language_info": {
   "codemirror_mode": {
    "name": "ipython",
    "version": 3
   },
   "file_extension": ".py",
   "mimetype": "text/x-python",
   "name": "python",
   "nbconvert_exporter": "python",
   "pygments_lexer": "ipython3",
   "version": "3.10.11"
  }
 },
 "nbformat": 4,
 "nbformat_minor": 5
}
